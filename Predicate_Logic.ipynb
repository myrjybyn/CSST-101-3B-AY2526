{
  "nbformat": 4,
  "nbformat_minor": 0,
  "metadata": {
    "colab": {
      "provenance": [],
      "include_colab_link": true
    },
    "kernelspec": {
      "name": "python3",
      "display_name": "Python 3"
    },
    "language_info": {
      "name": "python"
    }
  },
  "cells": [
    {
      "cell_type": "markdown",
      "metadata": {
        "id": "view-in-github",
        "colab_type": "text"
      },
      "source": [
        "<a href=\"https://colab.research.google.com/github/myrjybyn/CSST-101-3B-AY2526/blob/main/Predicate_Logic.ipynb\" target=\"_parent\"><img src=\"https://colab.research.google.com/assets/colab-badge.svg\" alt=\"Open In Colab\"/></a>"
      ]
    },
    {
      "cell_type": "markdown",
      "source": [
        "# **1. Unification Checker**"
      ],
      "metadata": {
        "id": "ICQpVa-pLXXF"
      }
    },
    {
      "cell_type": "code",
      "source": [
        "def unify(p1, p2):\n",
        "    f1, f2 = p1.split(\"(\")[0], p2.split(\"(\")[0]\n",
        "    if f1 != f2: return \"Cannot be unified\"\n",
        "\n",
        "    a1, a2 = p1[p1.find(\"(\")+1:-1].split(\",\"), p2[p2.find(\"(\")+1:-1].split(\",\")\n",
        "    if len(a1) != len(a2): return \"Cannot be unified\"\n",
        "\n",
        "    subs = {}\n",
        "    for x, y in zip(a1, a2):\n",
        "        x, y = x.strip(), y.strip()\n",
        "        if x == y: continue\n",
        "        if x.islower(): subs[x] = y\n",
        "        elif y.islower(): subs[y] = x\n",
        "        else: return \"Cannot be unified\"\n",
        "\n",
        "    return subs or \"Already unified\"\n",
        "\n",
        "# Test\n",
        "print(unify(\"Knows(John, x)\", \"Knows(John, Mary)\"))\n"
      ],
      "metadata": {
        "colab": {
          "base_uri": "https://localhost:8080/"
        },
        "id": "1wEkn9Rxlyz-",
        "outputId": "d05836d4-bfee-45b8-d5b3-1c6ae6de1684"
      },
      "execution_count": 1,
      "outputs": [
        {
          "output_type": "stream",
          "name": "stdout",
          "text": [
            "{'x': 'Mary'}\n"
          ]
        }
      ]
    },
    {
      "cell_type": "code",
      "execution_count": null,
      "metadata": {
        "colab": {
          "base_uri": "https://localhost:8080/"
        },
        "id": "7p5KFw54JMUD",
        "outputId": "7c504a09-4476-4d67-d58f-3807ac817af1"
      },
      "outputs": [
        {
          "output_type": "stream",
          "name": "stdout",
          "text": [
            "{'x': 'y'}\n"
          ]
        }
      ],
      "source": [
        "def unify(p1, p2):\n",
        "    f1, f2 = p1.split(\"(\")[0], p2.split(\"(\")[0]\n",
        "    if f1 != f2: return \"Cannot be unified\"\n",
        "\n",
        "    a1, a2 = p1[p1.find(\"(\")+1:-1].split(\",\"), p2[p2.find(\"(\")+1:-1].split(\",\")\n",
        "    if len(a1) != len(a2): return \"Cannot be unified\"\n",
        "\n",
        "    subs = {}\n",
        "    for x, y in zip(a1, a2):\n",
        "        x, y = x.strip(), y.strip()\n",
        "        if x == y: continue\n",
        "        if x.islower(): subs[x] = y\n",
        "        elif y.islower(): subs[y] = x\n",
        "        else: return \"Cannot be unified\"\n",
        "\n",
        "    return subs or \"Already unified\"\n",
        "\n",
        "# Test\n",
        "print(unify(\"Parent(John, x)\", \"Parent(John, y)\"))\n"
      ]
    },
    {
      "cell_type": "code",
      "source": [
        "def unify(p1, p2):\n",
        "    f1, f2 = p1.split(\"(\")[0], p2.split(\"(\")[0]\n",
        "    if f1 != f2: return \"Cannot be unified\"\n",
        "\n",
        "    a1, a2 = p1[p1.find(\"(\")+1:-1].split(\",\"), p2[p2.find(\"(\")+1:-1].split(\",\")\n",
        "    if len(a1) != len(a2): return \"Cannot be unified\"\n",
        "\n",
        "    subs = {}\n",
        "    for x, y in zip(a1, a2):\n",
        "        x, y = x.strip(), y.strip()\n",
        "        if x == y: continue\n",
        "        if x.islower(): subs[x] = y\n",
        "        elif y.islower(): subs[y] = x\n",
        "        else: return \"Cannot be unified\"\n",
        "\n",
        "    return subs or \"Already unified\"\n",
        "\n",
        "# Test\n",
        "print(unify(\"Knows(John, x)\", \"Knows(Mary, y)\"))\n"
      ],
      "metadata": {
        "id": "fokaQSBojRRV",
        "outputId": "f449f73b-20bf-4438-a1ca-7b98e6d0f062",
        "colab": {
          "base_uri": "https://localhost:8080/"
        }
      },
      "execution_count": null,
      "outputs": [
        {
          "output_type": "stream",
          "name": "stdout",
          "text": [
            "Cannot be unified\n"
          ]
        }
      ]
    },
    {
      "cell_type": "markdown",
      "source": [
        "# **2. Forward Chaining**"
      ],
      "metadata": {
        "id": "imViwbCCLwiT"
      }
    },
    {
      "cell_type": "code",
      "source": [
        "facts = {\"Human(Socrates)\"}\n",
        "rules = [(\"Human\", \"Mortal\"), (\"Mortal\", \"Dies\")]\n",
        "\n",
        "for p, c in rules:\n",
        "    for f in list(facts):\n",
        "        if f.startswith(p):\n",
        "            name = f[f.find(\"(\")+1:-1]\n",
        "            facts.add(f\"{c}({name})\")\n",
        "\n",
        "print(\"Final facts:\", facts)\n"
      ],
      "metadata": {
        "colab": {
          "base_uri": "https://localhost:8080/"
        },
        "id": "fGkkVR6gLw0T",
        "outputId": "20067e7f-17c6-4c70-f29c-243ca6dcae06"
      },
      "execution_count": null,
      "outputs": [
        {
          "output_type": "stream",
          "name": "stdout",
          "text": [
            "Final facts: {'Dies(Socrates)', 'Human(Socrates)', 'Mortal(Socrates)'}\n"
          ]
        }
      ]
    },
    {
      "cell_type": "code",
      "source": [
        "facts = {\"Human(Plato)\"}\n",
        "rules = [(\"Human\", \"Mortal\"), (\"Mortal\", \"Dies\")]\n",
        "\n",
        "for p, c in rules:\n",
        "    for f in list(facts):\n",
        "        if f.startswith(p):\n",
        "            name = f[f.find(\"(\")+1:-1]\n",
        "            facts.add(f\"{c}({name})\")\n",
        "\n",
        "print(\"Final facts:\", facts)\n"
      ],
      "metadata": {
        "id": "3FMcz88Gjful",
        "colab": {
          "base_uri": "https://localhost:8080/"
        },
        "outputId": "69efa8c6-8c64-4019-9b28-01fbf1205d7a"
      },
      "execution_count": 2,
      "outputs": [
        {
          "output_type": "stream",
          "name": "stdout",
          "text": [
            "Final facts: {'Dies(Plato)', 'Human(Plato)', 'Mortal(Plato)'}\n"
          ]
        }
      ]
    },
    {
      "cell_type": "code",
      "source": [
        "facts = {\"Dog(Plato)\"}\n",
        "rules = [(\"Dog\", \"4-Legged\"), (\"4-Legged\", \"Barks\")]\n",
        "\n",
        "for p, c in rules:\n",
        "    for f in list(facts):\n",
        "        if f.startswith(p):\n",
        "            name = f[f.find(\"(\")+1:-1]\n",
        "            facts.add(f\"{c}({name})\")\n",
        "\n",
        "print(\"Final facts:\", facts)\n"
      ],
      "metadata": {
        "colab": {
          "base_uri": "https://localhost:8080/"
        },
        "id": "71GfiBSymm5N",
        "outputId": "e1c3f47c-ad86-40ad-c7bd-239e86c20649"
      },
      "execution_count": 5,
      "outputs": [
        {
          "output_type": "stream",
          "name": "stdout",
          "text": [
            "Final facts: {'Barks(Plato)', 'Dog(Plato)', '4-Legged(Plato)'}\n"
          ]
        }
      ]
    },
    {
      "cell_type": "markdown",
      "source": [
        "# **3. Backward Chaining**"
      ],
      "metadata": {
        "id": "X59MBhaXL-Z0"
      }
    },
    {
      "cell_type": "code",
      "source": [
        "facts = {\"Student(Carlos)\", \"Studies(Carlos)\", \"Submits(Carlos, IT101)\"}\n",
        "premises = [\"Studies(x)\", \"Submits(x, IT101)\"]\n",
        "conclusion = \"Passed(x, IT101)\"\n",
        "\n",
        "def prove(goal):\n",
        "    if goal in facts: return True\n",
        "    if goal.startswith(\"Passed(\"):\n",
        "        name = goal[goal.find(\"(\")+1:goal.find(\",\")]\n",
        "        return all(prove(p.replace(\"x\", name)) for p in premises)\n",
        "    return False\n",
        "\n",
        "print(\"Carlos Passed?\", prove(\"Passed(Carlos, IT101)\"))\n",
        "print(\"Ana Passed?\", prove(\"Passed(Ana, IT101)\"))\n"
      ],
      "metadata": {
        "colab": {
          "base_uri": "https://localhost:8080/"
        },
        "id": "Ds8YCe3bL-oz",
        "outputId": "892aa4d1-7066-4aaf-ffd7-1d24440209d6"
      },
      "execution_count": 8,
      "outputs": [
        {
          "output_type": "stream",
          "name": "stdout",
          "text": [
            "Carlos Passed? True\n",
            "Ana Passed? False\n"
          ]
        }
      ]
    },
    {
      "cell_type": "code",
      "source": [
        "facts = {\"Student(Carlos)\", \"Studies(Carlos)\", \"Submits(Carlos, IT101)\", \"Student(Ana)\", \"Studies(Ana)\", \"Submits(Ana, IT101)\"}\n",
        "premises = [\"Studies(x)\", \"Submits(x, IT101)\"]\n",
        "conclusion = \"Passed(x, IT101)\"\n",
        "\n",
        "def prove(goal):\n",
        "    if goal in facts: return True\n",
        "    if goal.startswith(\"Passed(\"):\n",
        "        name = goal[goal.find(\"(\")+1:goal.find(\",\")]\n",
        "        return all(prove(p.replace(\"x\", name)) for p in premises)\n",
        "    return False\n",
        "\n",
        "print(\"Carlos Passed?\", prove(\"Passed(Carlos, IT101)\"))\n",
        "print(\"Ana Passed?\", prove(\"Passed(Ana, IT101)\"))\n"
      ],
      "metadata": {
        "colab": {
          "base_uri": "https://localhost:8080/"
        },
        "id": "DBdCWzpkn1Yd",
        "outputId": "52eac9c5-962c-4275-d52c-ed28068d96cb"
      },
      "execution_count": 9,
      "outputs": [
        {
          "output_type": "stream",
          "name": "stdout",
          "text": [
            "Carlos Passed? True\n",
            "Ana Passed? True\n"
          ]
        }
      ]
    }
  ]
}