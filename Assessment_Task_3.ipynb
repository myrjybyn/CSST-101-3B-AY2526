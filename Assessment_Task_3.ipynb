{
  "nbformat": 4,
  "nbformat_minor": 0,
  "metadata": {
    "colab": {
      "provenance": [],
      "include_colab_link": true
    },
    "kernelspec": {
      "name": "python3",
      "display_name": "Python 3"
    },
    "language_info": {
      "name": "python"
    }
  },
  "cells": [
    {
      "cell_type": "markdown",
      "metadata": {
        "id": "view-in-github",
        "colab_type": "text"
      },
      "source": [
        "<a href=\"https://colab.research.google.com/github/myrjybyn/CSST-101-3B-AY2526/blob/main/Assessment_Task_3.ipynb\" target=\"_parent\"><img src=\"https://colab.research.google.com/assets/colab-badge.svg\" alt=\"Open In Colab\"/></a>"
      ]
    },
    {
      "cell_type": "markdown",
      "source": [
        "# **1. Unification Checker**"
      ],
      "metadata": {
        "id": "ICQpVa-pLXXF"
      }
    },
    {
      "cell_type": "code",
      "source": [
        "def unify(p1, p2):\n",
        "    f1, f2 = p1.split(\"(\")[0], p2.split(\"(\")[0]\n",
        "    if f1 != f2:\n",
        "        return \"Cannot be unified\"\n",
        "\n",
        "    a1, a2 = p1[p1.find(\"(\")+1:-1].split(\",\"), p2[p2.find(\"(\")+1:-1].split(\",\")\n",
        "    if len(a1) != len(a2):\n",
        "        return \"Cannot be unified\"\n",
        "\n",
        "    subs = {}\n",
        "    for x, y in zip(a1, a2):\n",
        "        x, y = x.strip(), y.strip()\n",
        "        if x == y: continue\n",
        "        if x.islower(): subs[x] = y\n",
        "        elif y.islower(): subs[y] = x\n",
        "        else: return \"Cannot be unified\"\n",
        "\n",
        "    return subs or \"Already unified\"\n",
        "\n",
        "\n",
        "# Part 1 Test\n",
        "print(\"Unification Result:\", unify(\"Eligible(x)\", \"Eligible(Ana)\"))\n"
      ],
      "metadata": {
        "colab": {
          "base_uri": "https://localhost:8080/"
        },
        "id": "1wEkn9Rxlyz-",
        "outputId": "0d5095b3-9fad-4740-a69b-0f0552f0c148"
      },
      "execution_count": 2,
      "outputs": [
        {
          "output_type": "stream",
          "name": "stdout",
          "text": [
            "Unification Result: {'x': 'Ana'}\n"
          ]
        }
      ]
    },
    {
      "cell_type": "markdown",
      "source": [
        "# **2. Forward Chaining**"
      ],
      "metadata": {
        "id": "imViwbCCLwiT"
      }
    },
    {
      "cell_type": "code",
      "source": [
        "facts = {\n",
        "    \"Juan\": {\"HighGrades\", \"Applied\"},\n",
        "    \"Maria\": {\"HighGrades\", \"DidNotApply\"},\n",
        "    \"Carlos\": {\"StudentLeader\", \"NoHighGrades\"},\n",
        "    \"Ana\": {\"HighGrades\", \"StudentLeader\", \"Applied\"}\n",
        "}\n",
        "\n",
        "derived = {name: set() for name in facts}\n",
        "\n",
        "def apply_rules(name, props):\n",
        "    new = set()\n",
        "    # Rule 1: HighGrades + StudentLeader + Applied -> Eligible\n",
        "    if {\"HighGrades\", \"StudentLeader\", \"Applied\"}.issubset(props):\n",
        "        new.add(\"Eligible\")\n",
        "    # Rule 2: Eligible -> Scholarship\n",
        "    if \"Eligible\" in props:\n",
        "        new.add(\"Scholarship\")\n",
        "    # Rule 3: Scholarship -> FinancialSupport\n",
        "    if \"Scholarship\" in props:\n",
        "        new.add(\"FinancialSupport\")\n",
        "    return new\n",
        "\n",
        "\n",
        "changed = True\n",
        "while changed:\n",
        "    changed = False\n",
        "    for student, props in facts.items():\n",
        "        new = apply_rules(student, props | derived[student])\n",
        "        if not new.issubset(derived[student]):\n",
        "            derived[student].update(new)\n",
        "            changed = True\n",
        "\n",
        "for student in facts:\n",
        "    print(\"Final Facts: \")\n",
        "    print(student, \"→\", facts[student] | derived[student])\n"
      ],
      "metadata": {
        "id": "3FMcz88Gjful",
        "colab": {
          "base_uri": "https://localhost:8080/"
        },
        "outputId": "d53836ee-d8b1-48fa-c2ac-7ad7ca16bc3b"
      },
      "execution_count": 4,
      "outputs": [
        {
          "output_type": "stream",
          "name": "stdout",
          "text": [
            "Final Facts: \n",
            "Juan → {'Applied', 'HighGrades'}\n",
            "Final Facts: \n",
            "Maria → {'DidNotApply', 'HighGrades'}\n",
            "Final Facts: \n",
            "Carlos → {'NoHighGrades', 'StudentLeader'}\n",
            "Final Facts: \n",
            "Ana → {'StudentLeader', 'Scholarship', 'Eligible', 'Applied', 'FinancialSupport', 'HighGrades'}\n"
          ]
        }
      ]
    },
    {
      "cell_type": "markdown",
      "source": [
        "\n",
        "\n",
        "*   New Facts (Juan): None\n",
        "*   New Facts(Ana): Eligible, Scholarship, Financial Support\n",
        "\n",
        "\n",
        "---\n",
        "\n",
        "\n",
        "\n",
        "*   Maria is not Eligible because she's not a student leader and did not apply for the scholarship. Carlos is not eligible because he doesn't have high grades.\n",
        "\n",
        "\n",
        "\n"
      ],
      "metadata": {
        "id": "b0GlwBt3P5zM"
      }
    },
    {
      "cell_type": "markdown",
      "source": [
        "# **3. Backward Chaining**"
      ],
      "metadata": {
        "id": "X59MBhaXL-Z0"
      }
    },
    {
      "cell_type": "code",
      "source": [
        "facts = {\n",
        "    \"Juan\": {\"HighGrades\", \"Applied\"},\n",
        "    \"Maria\": {\"HighGrades\", \"DidNotApply\"},\n",
        "    \"Carlos\": {\"StudentLeader\", \"NoHighGrades\"},\n",
        "    \"Ana\": {\"HighGrades\", \"StudentLeader\", \"Applied\"}\n",
        "}\n",
        "\n",
        "# Backward chaining function\n",
        "def prove(goal, student):\n",
        "\n",
        "    if goal in facts.get(student, set()):\n",
        "        return True, f\"{goal}({student}) is a given fact.\"\n",
        "\n",
        "    # Rule 1\n",
        "    if goal == \"Eligible\":\n",
        "        if {\"HighGrades\", \"StudentLeader\", \"Applied\"}.issubset(facts[student]):\n",
        "            return True, f\"{goal}({student}) proven by Rule 1 (has HighGrades, StudentLeader, and Applied).\"\n",
        "        else:\n",
        "            return False, f\"{goal}({student}) fails Rule 1 (missing one or more requirements).\"\n",
        "\n",
        "    # Rule 2\n",
        "    if goal == \"Scholarship\":\n",
        "        ok, reason = prove(\"Eligible\", student)\n",
        "        if ok:\n",
        "            return True, f\"{goal}({student}) proven by Rule 2 → {reason}\"\n",
        "        else:\n",
        "            return False, f\"{goal}({student}) fails because {reason}\"\n",
        "\n",
        "    # Rule 3\n",
        "    if goal == \"FinancialSupport\":\n",
        "        ok, reason = prove(\"Scholarship\", student)\n",
        "        if ok:\n",
        "            return True, f\"{goal}({student}) proven by Rule 3 → {reason}\"\n",
        "        else:\n",
        "            return False, f\"{goal}({student}) fails because {reason}\"\n",
        "\n",
        "    return False, f\"No rule or fact supports {goal}({student}).\"\n",
        "\n",
        "\n",
        "# Tests\n",
        "print(\"Goal 1:\", prove(\"Scholarship\", \"Maria\")[1])\n",
        "print(\"Goal 2:\", prove(\"FinancialSupport\", \"Ana\")[1])\n"
      ],
      "metadata": {
        "colab": {
          "base_uri": "https://localhost:8080/"
        },
        "id": "Ds8YCe3bL-oz",
        "outputId": "8c88f4a8-eede-4f3a-fd3e-1fb641c4ad87"
      },
      "execution_count": 5,
      "outputs": [
        {
          "output_type": "stream",
          "name": "stdout",
          "text": [
            "Goal 1: Scholarship(Maria) fails because Eligible(Maria) fails Rule 1 (missing one or more requirements).\n",
            "Goal 2: FinancialSupport(Ana) proven by Rule 3 → Scholarship(Ana) proven by Rule 2 → Eligible(Ana) proven by Rule 1 (has HighGrades, StudentLeader, and Applied).\n"
          ]
        }
      ]
    },
    {
      "cell_type": "markdown",
      "source": [
        "**Goal 1: Scholarship(Maria)**\n",
        "\n",
        "\n",
        "*   Facts: HighGrades(Maria), DidNotApply(Maria)\n",
        "*   Rule 2 says if Eligible(x) then, Scholarship(x)\n",
        "*   Subgoal: Scholarship(Maria)\n",
        "*   However, Rule 1 says HighGrades(x) ∧ StudentLeader(x) ∧ Applied(x), then Eligible(x)\n",
        "*   **Scholarship(Maria) can't be proven or not possible since Maria lacks the student leader attribute and she did not apply.**\n",
        "\n",
        "\n",
        "---\n",
        "\n",
        "\n",
        "**Goal 2: FinancialSupport(Ana)**\n",
        "*   Facts: HighGrades(Ana), StudentLeader(Ana), Applied(Ana)\n",
        "*   Rule 1 says HighGrades(x) ∧ StudentLeader(x) ∧ Applied(x), then Eligible(x)\n",
        "*   Subgoal: Eligible(Ana)\n",
        "*   Rule 2 says if Eligible(x), then Scholarship(x)\n",
        "*   Subgoal: Scholarship(Maria)\n",
        "*   Rule 3 says if Scholarship(x), then FinancialSupport(x)\n",
        "*   **FinancialSupport(Ana) is proven true because Ana has high grades, a student leader and applied for the scholarship.**\n",
        "\n",
        "\n",
        "\n",
        "\n",
        "\n",
        "\n",
        "\n",
        "\n"
      ],
      "metadata": {
        "id": "ngVenB1pSKAI"
      }
    },
    {
      "cell_type": "markdown",
      "source": [
        "# **Part 4: Truth Table**\n",
        "| **HighGrades** | **Leader** | **Applied** | **HG∧L∧A** |    **Eligible**    |\n",
        "|:--------------:|:----------:|:-----------:|:----------:|:------------------:|\n",
        "|        T       |      T     |      T      |      T     |          T         |\n",
        "|        T       |      T     |      F      |      F     | Vacuously True (T) |\n",
        "|        T       |      F     |      T      |      F     | Vacuously True (T) |\n",
        "|        T       |      F     |      F      |      F     | Vacuously True (T) |\n",
        "|        F       |      F     |      F      |      F     | Vacuously True (T) |\n",
        "|        F       |      F     |      T      |      F     | Vacuously True (T) |\n",
        "|        F       |      T     |      T      |      F     | Vacuously True (T) |\n",
        "|        F       |      T     |      F      |      F     | Vacuously True (T) |\n",
        "\n",
        "\n",
        "---\n",
        "# **Test**\n",
        "**Juan**\n",
        "* Facts: {HighGrades, Applied} → Missing Leader → antecedent is False → implication is True, but Juan is not Eligible.  \n",
        "\n",
        "**Maria**\n",
        "* Facts: {HighGrades, DidNotApply} → Missing Applied and Leader → antecedent is False → implication holds, but Maria is not Eligible.  \n",
        "\n",
        "**Carlos**\n",
        "* Facts: {StudentLeader, NoHighGrades} → Missing HighGrades → antecedent is False → implication holds, but Carlos is not Eligible.  \n",
        "\n",
        "**Ana**\n",
        "* Facts: {HighGrades, StudentLeader, Applied} → All True → antecedent is True → therefore Eligible(Ana) = True.\n",
        "\n",
        "# **Part5: Reflection**  \n",
        "Logical reasoning is the foundation of AI decision making. It allows AI to make rule-based decisions, making it consistent. It enables AI to think like humans when it comes to reasoning. By following clear reasoning steps, AI justify its conclusions. In real life application, it helps avoid bias.\n",
        "\n",
        "\n",
        "\n",
        "\n"
      ],
      "metadata": {
        "id": "eilozthoXFJB"
      }
    }
  ]
}