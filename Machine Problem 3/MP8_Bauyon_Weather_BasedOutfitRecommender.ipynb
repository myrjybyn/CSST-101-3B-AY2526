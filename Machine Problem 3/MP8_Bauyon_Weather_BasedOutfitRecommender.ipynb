{
  "nbformat": 4,
  "nbformat_minor": 0,
  "metadata": {
    "colab": {
      "provenance": []
    },
    "kernelspec": {
      "name": "python3",
      "display_name": "Python 3"
    },
    "language_info": {
      "name": "python"
    }
  },
  "cells": [
    {
      "cell_type": "markdown",
      "source": [
        "**MYRAJOY B. BAUYON**\n",
        "\n",
        "**BSCS 3B**"
      ],
      "metadata": {
        "id": "Ix2HzNIB1gxL"
      }
    },
    {
      "cell_type": "code",
      "execution_count": 18,
      "metadata": {
        "colab": {
          "base_uri": "https://localhost:8080/"
        },
        "id": "xDuqlp8Up86k",
        "outputId": "cb27e60d-c41d-4653-e48f-a99fda303b48"
      },
      "outputs": [
        {
          "output_type": "stream",
          "name": "stdout",
          "text": [
            "==== WEATHER-BASED OUTFIT RECOMMENDER ====\n",
            "How is the weather today?\n",
            "A. Clear \n",
            "B. Cloudy \n",
            "C. Rainy \n",
            "D. Snowy \n",
            "E. Windy\n",
            "Answer: snowy\n",
            "=== Snowy Day Outfit Tips === \n",
            "1. Layers are a must! The recommmended clothings and accessories are as follows: \n",
            "  -Padded Jacket \n",
            "  -Gloves \n",
            "  -Leg Warmers \n",
            "  -Scarf\n"
          ]
        }
      ],
      "source": [
        "print(\"==== WEATHER-BASED OUTFIT RECOMMENDER ====\")\n",
        "\n",
        "print(\"How is the weather today?\")\n",
        "print(\"A. Clear \\nB. Cloudy \\nC. Rainy \\nD. Snowy \\nE. Windy\") #weather options\n",
        "answer = input(\"Answer: \").lower()\n",
        "\n",
        "if (answer == \"a\" or answer == \"clear\"): #rule 1: if weather is clear\n",
        "\n",
        "    temp = input(\"Is the temperature hot? (Y/N): \").lower() #input for another rule under rule 1\n",
        "\n",
        "    if (temp == \"y\"): #if temp is hot\n",
        "        print(\"\")\n",
        "        print(\"=== 'It's a Hot Day!' Outfit Tips === \\n1. Wear something light-colored.\\n2. Avoid wearing layers. \\n3. Wearing a hat would be nice to block the sun.\")\n",
        "    elif (temp == \"n\"):\n",
        "        print(\"You can wear any outfit you want. Go slay, girl.\")\n",
        "    else:\n",
        "        print(\"Invalid input. Please try again.\")\n",
        "\n",
        "\n",
        "elif (answer == \"b\" or answer == \"cloudy\"):\n",
        "    style = input(\"What style do you want? (Normal/Mystery): \").lower()\n",
        "\n",
        "    if (style == \"normal\"):\n",
        "        print(\"=== Normal Cloudy Day Outfit Tips === \\n1. Just wear whatever you want, bi-\")\n",
        "\n",
        "    elif (style == \"fabulous\"):\n",
        "        print(\"=== Cloudy with a Chance of Meatballs! Outfit Tips === \\n1. A lab coat. \\n2. Chicken Outfit \\n3. Police Uniform \\n4. Reporter Outfit \\n5. Cameraman Outfit \\n6. Steve\")\n",
        "    else:\n",
        "        print(\"Invalid input. Please try again.\")\n",
        "\n",
        "elif (answer == \"c\" or answer == \"rainy\"):\n",
        "    rainy = input(\"Is the rain heavy? (Y/N): \").lower()\n",
        "\n",
        "    if (rainy == \"y\"):\n",
        "        print(\"==== Heavy Rain Outfit Tips ==== \\n1. Wear rainboots. \\n2. Wear raincoat. \\n3. A jacket would be nice for the cold winds.\")\n",
        "    elif (rainy == \"n\"):\n",
        "        print(\"=== Light Rain Outfit Tips === \\n1. Bring an umbrella. \\n2. Wear safaaegaa\")\n",
        "    else:\n",
        "        print(\"Invalid input. Please try again\")\n",
        "\n",
        "elif (answer == \"d\" or answer == \"snowy\"):\n",
        "    print(\"=== Snowy Day Outfit Tips === \\n1. Layers are a must! The recommmended clothings and accessories are as follows: \\n  -Padded Jacket \\n  -Gloves \\n  -Leg Warmers \\n  -Scarf\")\n",
        "\n",
        "elif (answer == \"e\" or answer ==\"windy\"):\n",
        "    windy = input(\"Is the wind strong? (Y/N): \").lower()\n",
        "\n",
        "    if (windy == \"y\"):\n",
        "      print(\"=== Strong Winds Outfit Tips === \\n1. For girls and women, do not wear skirts.\\n 1.1 If need be, for aesthetic purposes, wear shorts or pants underneath. \\n2. Wear a windproof jacket. 3. Wear long pants to avoid your legs getting cold.\")\n",
        "    elif (windy == \"n\"):\n",
        "      print(\"=== Light Winds Outfit Tips === \\n Wear anything you want. Go flex your fashion, sis.\")\n",
        "    else:\n",
        "        print(\"Invalid input. Please try again\")\n",
        "\n",
        "else:\n",
        "    print(\"Invalid input. Please try again\")\n"
      ]
    }
  ]
}